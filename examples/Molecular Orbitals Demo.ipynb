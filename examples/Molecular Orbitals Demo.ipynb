{
 "metadata": {
  "name": "",
  "signature": "sha256:76ceef9edf88e6b88055d0559980f55510dcf2f6682465de95a118538a09a3f0"
 },
 "nbformat": 3,
 "nbformat_minor": 0,
 "worksheets": [
  {
   "cells": [
    {
     "cell_type": "code",
     "collapsed": false,
     "input": [
      "from chemlab.io import remotefile\n",
      "\n",
      "df = remotefile('https://raw.githubusercontent.com/cclib/cclib/master/data/GAMESS/basicGAMESS-US2012/water_mp2.out', 'gamess')"
     ],
     "language": "python",
     "metadata": {},
     "outputs": [
      {
       "output_type": "stream",
       "stream": "stdout",
       "text": [
        "[GAMESS stream <type 'instance'> INFO] Creating attribute atomcoords[]\n"
       ]
      },
      {
       "output_type": "stream",
       "stream": "stderr",
       "text": [
        "INFO:GAMESS stream <type 'instance'>:Creating attribute atomcoords[]\n"
       ]
      },
      {
       "output_type": "stream",
       "stream": "stdout",
       "text": [
        "[GAMESS stream <type 'instance'> INFO] Creating attribute atomnos[]\n"
       ]
      },
      {
       "output_type": "stream",
       "stream": "stderr",
       "text": [
        "INFO:GAMESS stream <type 'instance'>:Creating attribute atomnos[]\n"
       ]
      },
      {
       "output_type": "stream",
       "stream": "stdout",
       "text": [
        "[GAMESS stream <type 'instance'> INFO] Creating attribute gbasis[]\n"
       ]
      },
      {
       "output_type": "stream",
       "stream": "stderr",
       "text": [
        "INFO:GAMESS stream <type 'instance'>:Creating attribute gbasis[]\n"
       ]
      },
      {
       "output_type": "stream",
       "stream": "stdout",
       "text": [
        "[GAMESS stream <type 'instance'> INFO] Creating attribute nbasis: 7\n"
       ]
      },
      {
       "output_type": "stream",
       "stream": "stderr",
       "text": [
        "INFO:GAMESS stream <type 'instance'>:Creating attribute nbasis: 7\n"
       ]
      },
      {
       "output_type": "stream",
       "stream": "stdout",
       "text": [
        "[GAMESS stream <type 'instance'> INFO] Creating attribute charge: 0\n"
       ]
      },
      {
       "output_type": "stream",
       "stream": "stderr",
       "text": [
        "INFO:GAMESS stream <type 'instance'>:Creating attribute charge: 0\n"
       ]
      },
      {
       "output_type": "stream",
       "stream": "stdout",
       "text": [
        "[GAMESS stream <type 'instance'> INFO] Creating attribute mult: 1\n"
       ]
      },
      {
       "output_type": "stream",
       "stream": "stderr",
       "text": [
        "INFO:GAMESS stream <type 'instance'>:Creating attribute mult: 1\n"
       ]
      },
      {
       "output_type": "stream",
       "stream": "stdout",
       "text": [
        "[GAMESS stream <type 'instance'> INFO] Creating attribute homos[]\n"
       ]
      },
      {
       "output_type": "stream",
       "stream": "stderr",
       "text": [
        "INFO:GAMESS stream <type 'instance'>:Creating attribute homos[]\n"
       ]
      },
      {
       "output_type": "stream",
       "stream": "stdout",
       "text": [
        "[GAMESS stream <type 'instance'> INFO] Creating attribute natom: 3\n"
       ]
      },
      {
       "output_type": "stream",
       "stream": "stderr",
       "text": [
        "INFO:GAMESS stream <type 'instance'>:Creating attribute natom: 3\n"
       ]
      },
      {
       "output_type": "stream",
       "stream": "stdout",
       "text": [
        "[GAMESS stream <type 'instance'> INFO] Creating attribute scftargets[]\n"
       ]
      },
      {
       "output_type": "stream",
       "stream": "stderr",
       "text": [
        "INFO:GAMESS stream <type 'instance'>:Creating attribute scftargets[]\n"
       ]
      },
      {
       "output_type": "stream",
       "stream": "stdout",
       "text": [
        "[GAMESS stream <type 'instance'> INFO] Creating attribute scfvalues[]\n"
       ]
      },
      {
       "output_type": "stream",
       "stream": "stderr",
       "text": [
        "INFO:GAMESS stream <type 'instance'>:Creating attribute scfvalues[]\n"
       ]
      },
      {
       "output_type": "stream",
       "stream": "stdout",
       "text": [
        "[GAMESS stream <type 'instance'> INFO] Creating attribute scfenergies[]\n"
       ]
      },
      {
       "output_type": "stream",
       "stream": "stderr",
       "text": [
        "INFO:GAMESS stream <type 'instance'>:Creating attribute scfenergies[]\n"
       ]
      },
      {
       "output_type": "stream",
       "stream": "stdout",
       "text": [
        "[GAMESS stream <type 'instance'> INFO] Creating attribute moenergies[]\n"
       ]
      },
      {
       "output_type": "stream",
       "stream": "stderr",
       "text": [
        "INFO:GAMESS stream <type 'instance'>:Creating attribute moenergies[]\n"
       ]
      },
      {
       "output_type": "stream",
       "stream": "stdout",
       "text": [
        "[GAMESS stream <type 'instance'> INFO] Creating attribute mosyms[]\n"
       ]
      },
      {
       "output_type": "stream",
       "stream": "stderr",
       "text": [
        "INFO:GAMESS stream <type 'instance'>:Creating attribute mosyms[]\n"
       ]
      },
      {
       "output_type": "stream",
       "stream": "stdout",
       "text": [
        "[GAMESS stream <type 'instance'> INFO] Creating attribute nmo: 7\n"
       ]
      },
      {
       "output_type": "stream",
       "stream": "stderr",
       "text": [
        "INFO:GAMESS stream <type 'instance'>:Creating attribute nmo: 7\n"
       ]
      },
      {
       "output_type": "stream",
       "stream": "stdout",
       "text": [
        "[GAMESS stream <type 'instance'> INFO] Creating attribute mocoeffs[]\n"
       ]
      },
      {
       "output_type": "stream",
       "stream": "stderr",
       "text": [
        "INFO:GAMESS stream <type 'instance'>:Creating attribute mocoeffs[]\n"
       ]
      },
      {
       "output_type": "stream",
       "stream": "stdout",
       "text": [
        "[GAMESS stream <type 'instance'> INFO] Creating attribute atombasis[]\n"
       ]
      },
      {
       "output_type": "stream",
       "stream": "stderr",
       "text": [
        "INFO:GAMESS stream <type 'instance'>:Creating attribute atombasis[]\n"
       ]
      },
      {
       "output_type": "stream",
       "stream": "stdout",
       "text": [
        "[GAMESS stream <type 'instance'> INFO] Creating attribute aonames[]\n"
       ]
      },
      {
       "output_type": "stream",
       "stream": "stderr",
       "text": [
        "INFO:GAMESS stream <type 'instance'>:Creating attribute aonames[]\n"
       ]
      },
      {
       "output_type": "stream",
       "stream": "stdout",
       "text": [
        "[GAMESS stream <type 'instance'> INFO] Creating attribute atomcharges: {}\n"
       ]
      },
      {
       "output_type": "stream",
       "stream": "stderr",
       "text": [
        "INFO:GAMESS stream <type 'instance'>:Creating attribute atomcharges: {}\n"
       ]
      },
      {
       "output_type": "stream",
       "stream": "stdout",
       "text": [
        "[GAMESS stream <type 'instance'> INFO] Creating attribute mpenergies[]\n"
       ]
      },
      {
       "output_type": "stream",
       "stream": "stderr",
       "text": [
        "INFO:GAMESS stream <type 'instance'>:Creating attribute mpenergies[]\n"
       ]
      },
      {
       "output_type": "stream",
       "stream": "stdout",
       "text": [
        "[GAMESS stream <type 'instance'> INFO] Creating attribute coreelectrons[]\n"
       ]
      },
      {
       "output_type": "stream",
       "stream": "stderr",
       "text": [
        "INFO:GAMESS stream <type 'instance'>:Creating attribute coreelectrons[]\n"
       ]
      }
     ],
     "prompt_number": 10
    },
    {
     "cell_type": "code",
     "collapsed": false,
     "input": [
      "df = remotefile('https://raw.githubusercontent.com/cclib/cclib/master/data/GAMESS/basicGAMESS-US2012/C_bigbasis.out', 'gamess')"
     ],
     "language": "python",
     "metadata": {},
     "outputs": [
      {
       "output_type": "stream",
       "stream": "stdout",
       "text": [
        "[GAMESS stream <type 'instance'> INFO] Creating attribute atomcoords[]\n"
       ]
      },
      {
       "output_type": "stream",
       "stream": "stderr",
       "text": [
        "INFO:GAMESS stream <type 'instance'>:Creating attribute atomcoords[]\n"
       ]
      },
      {
       "output_type": "stream",
       "stream": "stdout",
       "text": [
        "[GAMESS stream <type 'instance'> INFO] Creating attribute atomnos[]\n"
       ]
      },
      {
       "output_type": "stream",
       "stream": "stderr",
       "text": [
        "INFO:GAMESS stream <type 'instance'>:Creating attribute atomnos[]\n"
       ]
      },
      {
       "output_type": "stream",
       "stream": "stdout",
       "text": [
        "[GAMESS stream <type 'instance'> INFO] Creating attribute gbasis[]\n"
       ]
      },
      {
       "output_type": "stream",
       "stream": "stderr",
       "text": [
        "INFO:GAMESS stream <type 'instance'>:Creating attribute gbasis[]\n"
       ]
      },
      {
       "output_type": "stream",
       "stream": "stdout",
       "text": [
        "[GAMESS stream <type 'instance'> INFO] Creating attribute nbasis: 139\n"
       ]
      },
      {
       "output_type": "stream",
       "stream": "stderr",
       "text": [
        "INFO:GAMESS stream <type 'instance'>:Creating attribute nbasis: 139\n"
       ]
      },
      {
       "output_type": "stream",
       "stream": "stdout",
       "text": [
        "[GAMESS stream <type 'instance'> INFO] Creating attribute charge: 0\n"
       ]
      },
      {
       "output_type": "stream",
       "stream": "stderr",
       "text": [
        "INFO:GAMESS stream <type 'instance'>:Creating attribute charge: 0\n"
       ]
      },
      {
       "output_type": "stream",
       "stream": "stdout",
       "text": [
        "[GAMESS stream <type 'instance'> INFO] Creating attribute mult: 1\n"
       ]
      },
      {
       "output_type": "stream",
       "stream": "stderr",
       "text": [
        "INFO:GAMESS stream <type 'instance'>:Creating attribute mult: 1\n"
       ]
      },
      {
       "output_type": "stream",
       "stream": "stdout",
       "text": [
        "[GAMESS stream <type 'instance'> INFO] Creating attribute homos[]\n"
       ]
      },
      {
       "output_type": "stream",
       "stream": "stderr",
       "text": [
        "INFO:GAMESS stream <type 'instance'>:Creating attribute homos[]\n"
       ]
      },
      {
       "output_type": "stream",
       "stream": "stdout",
       "text": [
        "[GAMESS stream <type 'instance'> INFO] Creating attribute natom: 1\n"
       ]
      },
      {
       "output_type": "stream",
       "stream": "stderr",
       "text": [
        "INFO:GAMESS stream <type 'instance'>:Creating attribute natom: 1\n"
       ]
      },
      {
       "output_type": "stream",
       "stream": "stdout",
       "text": [
        "[GAMESS stream <type 'instance'> INFO] Creating attribute nmo: 109\n"
       ]
      },
      {
       "output_type": "stream",
       "stream": "stderr",
       "text": [
        "INFO:GAMESS stream <type 'instance'>:Creating attribute nmo: 109\n"
       ]
      },
      {
       "output_type": "stream",
       "stream": "stdout",
       "text": [
        "[GAMESS stream <type 'instance'> INFO] Creating attribute aooverlaps[]\n"
       ]
      },
      {
       "output_type": "stream",
       "stream": "stderr",
       "text": [
        "INFO:GAMESS stream <type 'instance'>:Creating attribute aooverlaps[]\n"
       ]
      },
      {
       "output_type": "stream",
       "stream": "stdout",
       "text": [
        "[GAMESS stream <type 'instance'> INFO] Creating attribute scftargets[]\n"
       ]
      },
      {
       "output_type": "stream",
       "stream": "stderr",
       "text": [
        "INFO:GAMESS stream <type 'instance'>:Creating attribute scftargets[]\n"
       ]
      },
      {
       "output_type": "stream",
       "stream": "stdout",
       "text": [
        "[GAMESS stream <type 'instance'> INFO] Creating attribute scfvalues[]\n"
       ]
      },
      {
       "output_type": "stream",
       "stream": "stderr",
       "text": [
        "INFO:GAMESS stream <type 'instance'>:Creating attribute scfvalues[]\n"
       ]
      },
      {
       "output_type": "stream",
       "stream": "stdout",
       "text": [
        "[GAMESS stream <type 'instance'> INFO] Creating attribute scfenergies[]\n"
       ]
      },
      {
       "output_type": "stream",
       "stream": "stderr",
       "text": [
        "INFO:GAMESS stream <type 'instance'>:Creating attribute scfenergies[]\n"
       ]
      },
      {
       "output_type": "stream",
       "stream": "stdout",
       "text": [
        "[GAMESS stream <type 'instance'> INFO] Creating attribute moenergies[]\n"
       ]
      },
      {
       "output_type": "stream",
       "stream": "stderr",
       "text": [
        "INFO:GAMESS stream <type 'instance'>:Creating attribute moenergies[]\n"
       ]
      },
      {
       "output_type": "stream",
       "stream": "stdout",
       "text": [
        "[GAMESS stream <type 'instance'> INFO] Creating attribute mosyms[]\n"
       ]
      },
      {
       "output_type": "stream",
       "stream": "stderr",
       "text": [
        "INFO:GAMESS stream <type 'instance'>:Creating attribute mosyms[]\n"
       ]
      },
      {
       "output_type": "stream",
       "stream": "stdout",
       "text": [
        "[GAMESS stream <type 'instance'> INFO] Creating attribute mocoeffs[]\n"
       ]
      },
      {
       "output_type": "stream",
       "stream": "stderr",
       "text": [
        "INFO:GAMESS stream <type 'instance'>:Creating attribute mocoeffs[]\n"
       ]
      },
      {
       "output_type": "stream",
       "stream": "stdout",
       "text": [
        "[GAMESS stream <type 'instance'> INFO] Creating attribute atombasis[]\n"
       ]
      },
      {
       "output_type": "stream",
       "stream": "stderr",
       "text": [
        "INFO:GAMESS stream <type 'instance'>:Creating attribute atombasis[]\n"
       ]
      },
      {
       "output_type": "stream",
       "stream": "stdout",
       "text": [
        "[GAMESS stream <type 'instance'> INFO] Creating attribute aonames[]\n"
       ]
      },
      {
       "output_type": "stream",
       "stream": "stderr",
       "text": [
        "INFO:GAMESS stream <type 'instance'>:Creating attribute aonames[]\n"
       ]
      },
      {
       "output_type": "stream",
       "stream": "stdout",
       "text": [
        "[GAMESS stream <type 'instance'> INFO] Creating attribute atomcharges: {}\n"
       ]
      },
      {
       "output_type": "stream",
       "stream": "stderr",
       "text": [
        "INFO:GAMESS stream <type 'instance'>:Creating attribute atomcharges: {}\n"
       ]
      },
      {
       "output_type": "stream",
       "stream": "stdout",
       "text": [
        "[GAMESS stream <type 'instance'> INFO] Creating attribute coreelectrons[]\n"
       ]
      },
      {
       "output_type": "stream",
       "stream": "stderr",
       "text": [
        "INFO:GAMESS stream <type 'instance'>:Creating attribute coreelectrons[]\n"
       ]
      }
     ],
     "prompt_number": 8
    },
    {
     "cell_type": "code",
     "collapsed": false,
     "input": [
      "%load_ext autoreload\n",
      "%autoreload 2"
     ],
     "language": "python",
     "metadata": {},
     "outputs": [],
     "prompt_number": 2
    },
    {
     "cell_type": "code",
     "collapsed": false,
     "input": [
      "df.read('gbasis')"
     ],
     "language": "python",
     "metadata": {},
     "outputs": [
      {
       "metadata": {},
       "output_type": "pyout",
       "prompt_number": 13,
       "text": [
        "[[('S',\n",
        "   [(130.7093214, 0.154328967295),\n",
        "    (23.8088661, 0.535328142282),\n",
        "    (6.4436083, 0.444634542185)]),\n",
        "  ('S',\n",
        "   [(5.0331513, -0.099967229187),\n",
        "    (1.1695961, 0.399512826089),\n",
        "    (0.380389, 0.70011546888)]),\n",
        "  ('P',\n",
        "   [(5.0331513, 0.155916274999),\n",
        "    (1.1695961, 0.607683718598),\n",
        "    (0.380389, 0.391957393099)])],\n",
        " [('S',\n",
        "   [(3.4252509, 0.154328967295),\n",
        "    (0.6239137, 0.535328142282),\n",
        "    (0.1688554, 0.444634542185)])],\n",
        " [('S',\n",
        "   [(3.4252509, 0.154328967295),\n",
        "    (0.6239137, 0.535328142282),\n",
        "    (0.1688554, 0.444634542185)])]]"
       ]
      }
     ],
     "prompt_number": 13
    },
    {
     "cell_type": "code",
     "collapsed": false,
     "input": [
      "from cclib.method.volume import *"
     ],
     "language": "python",
     "metadata": {},
     "outputs": [
      {
       "ename": "ImportError",
       "evalue": "cannot import name makepyquante",
       "output_type": "pyerr",
       "traceback": [
        "\u001b[1;31m---------------------------------------------------------------------------\u001b[0m\n\u001b[1;31mImportError\u001b[0m                               Traceback (most recent call last)",
        "\u001b[1;32m<ipython-input-5-746e23c31afc>\u001b[0m in \u001b[0;36m<module>\u001b[1;34m()\u001b[0m\n\u001b[1;32m----> 1\u001b[1;33m \u001b[1;32mfrom\u001b[0m \u001b[0mcclib\u001b[0m\u001b[1;33m.\u001b[0m\u001b[0mmethod\u001b[0m\u001b[1;33m.\u001b[0m\u001b[0mvolume\u001b[0m \u001b[1;32mimport\u001b[0m \u001b[1;33m*\u001b[0m\u001b[1;33m\u001b[0m\u001b[0m\n\u001b[0m",
        "\u001b[1;32m/home/gabriele/anaconda/envs/chemlab_dev/lib/python2.7/site-packages/cclib/method/volume.py\u001b[0m in \u001b[0;36m<module>\u001b[1;34m()\u001b[0m\n\u001b[0;32m     27\u001b[0m     \u001b[0mmodule_pyvtk\u001b[0m \u001b[1;33m=\u001b[0m \u001b[0mFalse\u001b[0m\u001b[1;33m\u001b[0m\u001b[0m\n\u001b[0;32m     28\u001b[0m \u001b[1;33m\u001b[0m\u001b[0m\n\u001b[1;32m---> 29\u001b[1;33m \u001b[1;32mfrom\u001b[0m \u001b[0mcclib\u001b[0m\u001b[1;33m.\u001b[0m\u001b[0mbridge\u001b[0m \u001b[1;32mimport\u001b[0m \u001b[0mmakepyquante\u001b[0m\u001b[1;33m\u001b[0m\u001b[0m\n\u001b[0m\u001b[0;32m     30\u001b[0m \u001b[1;32mfrom\u001b[0m \u001b[0mcclib\u001b[0m\u001b[1;33m.\u001b[0m\u001b[0mparser\u001b[0m\u001b[1;33m.\u001b[0m\u001b[0mutils\u001b[0m \u001b[1;32mimport\u001b[0m \u001b[0mconvertor\u001b[0m\u001b[1;33m\u001b[0m\u001b[0m\n\u001b[0;32m     31\u001b[0m \u001b[1;33m\u001b[0m\u001b[0m\n",
        "\u001b[1;31mImportError\u001b[0m: cannot import name makepyquante"
       ]
      }
     ],
     "prompt_number": 5
    },
    {
     "cell_type": "code",
     "collapsed": false,
     "input": [],
     "language": "python",
     "metadata": {},
     "outputs": []
    }
   ],
   "metadata": {}
  }
 ]
}